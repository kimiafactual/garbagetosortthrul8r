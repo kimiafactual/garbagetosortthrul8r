{
 "cells": [
  {
   "cell_type": "code",
   "execution_count": 2,
   "metadata": {},
   "outputs": [],
   "source": [
    "def create_seed_input(annotation):\n",
    "    uri = \"input://seed/pipelines/yny.com/foreign_id/\" + str(annotation[\"annotation_id\"]) + '_' + str(annotation[\"uuid\"])\n",
    "\n",
    "    seed_input = {\"data\":\n",
    "                  {\"extraction\":\n",
    "                          {\"rawPayload\": annotation[\"payload\"]}},\n",
    "                  \"uri\": uri,\"timestamp\": TIMESTAMP}"
   ]
  },
  {
   "cell_type": "code",
   "execution_count": 3,
   "metadata": {},
   "outputs": [],
   "source": [
    "import numpy as np\n",
    "import pandas as pd\n",
    "import json\n",
    "import codecs\n",
    "import warnings\n",
    "warnings.filterwarnings(\"ignore\")\n",
    "import pandas as pd\n",
    "import matplotlib as m\n",
    "import matplotlib.pyplot as plt\n",
    "from pandas.io.json import json_normalize\n",
    "\n",
    "#Yenny's dups file\n",
    "json_file = \"/Users/kimia/Desktop/Work5/duplicates_batch_2018-05-18.json\"\n",
    "df = pd.read_json(json_file, lines=True)\n",
    "dfsub = json_normalize(df.submission)\n",
    "\n",
    "#everything but payload ('twas messy, so I split it then merge)\n",
    "metadf = dfsub[[ 'task_id', 'updated_at', 'user_id', 'created_at', 'id',]]\n",
    "\n",
    "dfsub = pd.DataFrame(dict(df.submission[0:])).T\n",
    "dfpayloads = pd.DataFrame()\n",
    "\n",
    "# I know this isn't efficient. But it helps split out the payloads (multiple per task_id). \n",
    "for i in range(dfsub.shape[0]):\n",
    "    f = pd.DataFrame(dfsub.payload[i]).T\n",
    "    f['id'] = dfsub.id[i]\n",
    "    f['task_id'] = dfsub.task_id[i]\n",
    "    f['user_id'] = dfsub.user_id[i]\n",
    "    f['created_at'] = dfsub.created_at[i]\n",
    "    f['updated_at'] = dfsub.updated_at[i]\n",
    "    dfpayloads = pd.concat([dfpayloads, f])\n",
    "    \n",
    "dfpayloads = dfpayloads.reset_index()\n",
    "dfpayloads = dfpayloads.rename(index=str, columns={\"index\": \"payload\"})\n",
    "dfpayloads['count'] = 1 # this is to signify one input per user\n",
    "#dfpayloads.to_csv('dfpayloads.csv')\n",
    "dfpayloads['unique'] = (dfpayloads.task_id).apply(lambda x: str(x)) + (dfpayloads.payload).apply(lambda x: str(x))\n",
    "dfpayloads['factual_id'] = dfpayloads.payload"
   ]
  },
  {
   "cell_type": "code",
   "execution_count": 4,
   "metadata": {},
   "outputs": [],
   "source": [
    "dftask = json_normalize(df.task)"
   ]
  },
  {
   "cell_type": "code",
   "execution_count": 20,
   "metadata": {},
   "outputs": [
    {
     "data": {
      "text/plain": [
       "12259"
      ]
     },
     "execution_count": 20,
     "metadata": {},
     "output_type": "execute_result"
    }
   ],
   "source": [
    "len(pd.DataFrame(dftask['payload.candidates']))#[3]))#[['factual_id', 'name']]))"
   ]
  },
  {
   "cell_type": "code",
   "execution_count": 13,
   "metadata": {},
   "outputs": [
    {
     "data": {
      "text/plain": [
       "13"
      ]
     },
     "execution_count": 13,
     "metadata": {},
     "output_type": "execute_result"
    }
   ],
   "source": [
    "len((pd.DataFrame(dftask['payload.candidates'][3])['factual_id']).unique())"
   ]
  },
  {
   "cell_type": "code",
   "execution_count": 33,
   "metadata": {},
   "outputs": [],
   "source": [
    "uuidDF = pd.DataFrame()\n",
    "for i in (range(len(dftask['payload.candidates'][0:]))):\n",
    "    dft = pd.DataFrame(dftask['payload.candidates'][i])[['factual_id']]\n",
    "    dft['id'] = dftask['id'][i]\n",
    "    dft['payload.canonical_uuid'] =dftask['payload.canonical_uuid'][i]\n",
    "    uuidDF = pd.concat([uuidDF, dft])\n",
    "    \n",
    "uuidDF = uuidDF.reset_index()\n",
    "uuidDF['task_id'] = uuidDF.id"
   ]
  },
  {
   "cell_type": "code",
   "execution_count": 25,
   "metadata": {},
   "outputs": [
    {
     "data": {
      "text/plain": [
       "12259"
      ]
     },
     "execution_count": 25,
     "metadata": {},
     "output_type": "execute_result"
    }
   ],
   "source": [
    "len(dftask['payload.candidates'][0:])"
   ]
  },
  {
   "cell_type": "code",
   "execution_count": 35,
   "metadata": {},
   "outputs": [
    {
     "ename": "AttributeError",
     "evalue": "'list' object has no attribute 'unique'",
     "output_type": "error",
     "traceback": [
      "\u001b[0;31m---------------------------------------------------------------------------\u001b[0m",
      "\u001b[0;31mAttributeError\u001b[0m                            Traceback (most recent call last)",
      "\u001b[0;32m<ipython-input-35-e52555206275>\u001b[0m in \u001b[0;36m<module>\u001b[0;34m()\u001b[0m\n\u001b[0;32m----> 1\u001b[0;31m \u001b[0mlist\u001b[0m\u001b[0;34m(\u001b[0m\u001b[0mdftask\u001b[0m\u001b[0;34m[\u001b[0m\u001b[0;34m'payload.candidates'\u001b[0m\u001b[0;34m]\u001b[0m\u001b[0;34m)\u001b[0m\u001b[0;34m.\u001b[0m\u001b[0munique\u001b[0m\u001b[0;34m(\u001b[0m\u001b[0;34m)\u001b[0m\u001b[0;34m\u001b[0m\u001b[0m\n\u001b[0m",
      "\u001b[0;31mAttributeError\u001b[0m: 'list' object has no attribute 'unique'"
     ]
    }
   ],
   "source": [
    "list(dftask['payload.candidates']).unique()"
   ]
  },
  {
   "cell_type": "code",
   "execution_count": null,
   "metadata": {},
   "outputs": [],
   "source": [
    "my_dict = {}\n",
    "\n",
    "if (my_dict[key] != None):\n",
    "  my_dict[key] = 1\n",
    "else:\n",
    "  my_dict[key] += 1"
   ]
  }
 ],
 "metadata": {
  "kernelspec": {
   "display_name": "Python 3",
   "language": "python",
   "name": "python3"
  },
  "language_info": {
   "codemirror_mode": {
    "name": "ipython",
    "version": 3
   },
   "file_extension": ".py",
   "mimetype": "text/x-python",
   "name": "python",
   "nbconvert_exporter": "python",
   "pygments_lexer": "ipython3",
   "version": "3.6.4"
  }
 },
 "nbformat": 4,
 "nbformat_minor": 2
}
