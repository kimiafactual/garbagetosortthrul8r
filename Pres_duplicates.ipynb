{
 "cells": [
  {
   "cell_type": "code",
   "execution_count": 1,
   "metadata": {},
   "outputs": [],
   "source": [
    "import numpy as np\n",
    "import pandas as pd\n",
    "import json\n",
    "import codecs\n",
    "import warnings\n",
    "warnings.filterwarnings(\"ignore\")\n",
    "import pandas as pd\n",
    "import matplotlib as m\n",
    "import matplotlib.pyplot as plt\n",
    "from pandas.io.json import json_normalize\n",
    "\n",
    "#Yenny's dups file\n",
    "json_file = \"/Users/kimia/Desktop/Work5/duplicates_batch_2018-05-18.json\"\n",
    "df = pd.read_json(json_file, lines=True)\n",
    "dfsub = json_normalize(df.submission)\n",
    "\n",
    "#everything but payload ('twas messy, so I split it then merge)\n",
    "metadf = dfsub[[ 'task_id', 'updated_at', 'user_id', 'created_at', 'id']]\n",
    "\n",
    "dfsub = pd.DataFrame(dict(df.submission[0:])).T\n",
    "dfpayloads = pd.DataFrame()\n",
    "\n",
    "# I know this isn't efficient. But it helps split out the payloads (multiple per task_id). \n",
    "for i in range(dfsub.shape[0]):\n",
    "    f = pd.DataFrame(dfsub.payload[i]).T\n",
    "    f['id'] = dfsub.id[i]\n",
    "    f['task_id'] = dfsub.task_id[i]\n",
    "    f['user_id'] = dfsub.user_id[i]\n",
    "    f['created_at'] = dfsub.created_at[i]\n",
    "    f['updated_at'] = dfsub.updated_at[i]\n",
    "    dfpayloads = pd.concat([dfpayloads, f])\n",
    "    \n",
    "dfpayloads = dfpayloads.reset_index()\n",
    "dfpayloads = dfpayloads.rename(index=str, columns={\"index\": \"payload\"})\n",
    "dfpayloads['count'] = 1 # this is to signify one input per user\n",
    "#dfpayloads.to_csv('dfpayloads.csv')\n",
    "dfpayloads['unique'] = (dfpayloads.task_id).apply(lambda x: str(x)) + (dfpayloads.payload).apply(lambda x: str(x))\n"
   ]
  },
  {
   "cell_type": "code",
   "execution_count": 107,
   "metadata": {},
   "outputs": [],
   "source": [
    "\n",
    "taskusdf = pd.read_csv('/Users/kimia/Downloads/Karen.txt', sep=',')[3:]\n",
    "#['Id', 'Email', 'First'  ,'Last' ,'Created' ,'Updated', 'Hire Date']\n",
    "taskusdf = taskusdf[['Unnamed: 0', 'Unnamed: 3','Unnamed: 6' ]]\n",
    "\n",
    "taskusdf['hire'] = pd.to_datetime(taskusdf['Unnamed: 6'],  errors = 'coerce')\n",
    "\n",
    "taskusdf['today'] = pd.to_datetime('today')\n",
    "taskusdf['totaltime'] = taskusdf['today'] -taskusdf['hire']\n",
    "taskusdf[\"user_id\"] = taskusdf[\"Unnamed: 0\"]\n",
    "taskusdf[\"user_id\"] = taskusdf[\"user_id\"].apply(lambda x: int(x))\n",
    "taskusdf['timeclean'] = taskusdf['totaltime'].apply(lambda x: int(str(x)[0:3]))\n"
   ]
  },
  {
   "cell_type": "code",
   "execution_count": 108,
   "metadata": {},
   "outputs": [],
   "source": [
    "\n",
    "df = dfpayloads \n",
    "df = pd.merge(df, taskusdf, on='user_id', how = 'left')\n"
   ]
  },
  {
   "cell_type": "code",
   "execution_count": null,
   "metadata": {},
   "outputs": [],
   "source": []
  },
  {
   "cell_type": "code",
   "execution_count": 21,
   "metadata": {},
   "outputs": [
    {
     "data": {
      "text/html": [
       "<div>\n",
       "<style scoped>\n",
       "    .dataframe tbody tr th:only-of-type {\n",
       "        vertical-align: middle;\n",
       "    }\n",
       "\n",
       "    .dataframe tbody tr th {\n",
       "        vertical-align: top;\n",
       "    }\n",
       "\n",
       "    .dataframe thead th {\n",
       "        text-align: right;\n",
       "    }\n",
       "</style>\n",
       "<table border=\"1\" class=\"dataframe\">\n",
       "  <thead>\n",
       "    <tr style=\"text-align: right;\">\n",
       "      <th></th>\n",
       "      <th>LastName</th>\n",
       "      <th>count</th>\n",
       "    </tr>\n",
       "  </thead>\n",
       "  <tbody>\n",
       "    <tr>\n",
       "      <th>0</th>\n",
       "      <td>Garciso</td>\n",
       "      <td>522</td>\n",
       "    </tr>\n",
       "    <tr>\n",
       "      <th>1</th>\n",
       "      <td>Pascual</td>\n",
       "      <td>4264</td>\n",
       "    </tr>\n",
       "    <tr>\n",
       "      <th>2</th>\n",
       "      <td>Ropeta</td>\n",
       "      <td>4771</td>\n",
       "    </tr>\n",
       "    <tr>\n",
       "      <th>3</th>\n",
       "      <td>Glomar</td>\n",
       "      <td>5559</td>\n",
       "    </tr>\n",
       "    <tr>\n",
       "      <th>4</th>\n",
       "      <td>Cruspero</td>\n",
       "      <td>5618</td>\n",
       "    </tr>\n",
       "    <tr>\n",
       "      <th>5</th>\n",
       "      <td>Prudente</td>\n",
       "      <td>5775</td>\n",
       "    </tr>\n",
       "    <tr>\n",
       "      <th>6</th>\n",
       "      <td>Abeabe</td>\n",
       "      <td>5952</td>\n",
       "    </tr>\n",
       "    <tr>\n",
       "      <th>7</th>\n",
       "      <td>Martinez</td>\n",
       "      <td>5967</td>\n",
       "    </tr>\n",
       "    <tr>\n",
       "      <th>8</th>\n",
       "      <td>Remulla</td>\n",
       "      <td>5997</td>\n",
       "    </tr>\n",
       "    <tr>\n",
       "      <th>9</th>\n",
       "      <td>Guieb</td>\n",
       "      <td>6027</td>\n",
       "    </tr>\n",
       "    <tr>\n",
       "      <th>10</th>\n",
       "      <td>Obina</td>\n",
       "      <td>6031</td>\n",
       "    </tr>\n",
       "    <tr>\n",
       "      <th>11</th>\n",
       "      <td>Calibo</td>\n",
       "      <td>6581</td>\n",
       "    </tr>\n",
       "    <tr>\n",
       "      <th>12</th>\n",
       "      <td>Penecilla</td>\n",
       "      <td>6862</td>\n",
       "    </tr>\n",
       "    <tr>\n",
       "      <th>13</th>\n",
       "      <td>Borres</td>\n",
       "      <td>6866</td>\n",
       "    </tr>\n",
       "    <tr>\n",
       "      <th>14</th>\n",
       "      <td>Sooksingha</td>\n",
       "      <td>7008</td>\n",
       "    </tr>\n",
       "    <tr>\n",
       "      <th>15</th>\n",
       "      <td>Te</td>\n",
       "      <td>7368</td>\n",
       "    </tr>\n",
       "    <tr>\n",
       "      <th>16</th>\n",
       "      <td>Lozano</td>\n",
       "      <td>7571</td>\n",
       "    </tr>\n",
       "    <tr>\n",
       "      <th>17</th>\n",
       "      <td>Camantigue</td>\n",
       "      <td>7582</td>\n",
       "    </tr>\n",
       "    <tr>\n",
       "      <th>18</th>\n",
       "      <td>Taala</td>\n",
       "      <td>7648</td>\n",
       "    </tr>\n",
       "    <tr>\n",
       "      <th>19</th>\n",
       "      <td>Dangalan</td>\n",
       "      <td>7655</td>\n",
       "    </tr>\n",
       "    <tr>\n",
       "      <th>20</th>\n",
       "      <td>Olivares</td>\n",
       "      <td>7671</td>\n",
       "    </tr>\n",
       "    <tr>\n",
       "      <th>21</th>\n",
       "      <td>Reyes</td>\n",
       "      <td>7686</td>\n",
       "    </tr>\n",
       "    <tr>\n",
       "      <th>22</th>\n",
       "      <td>Lagumbay</td>\n",
       "      <td>7729</td>\n",
       "    </tr>\n",
       "    <tr>\n",
       "      <th>23</th>\n",
       "      <td>Hernandez</td>\n",
       "      <td>7823</td>\n",
       "    </tr>\n",
       "    <tr>\n",
       "      <th>24</th>\n",
       "      <td>Camet</td>\n",
       "      <td>7869</td>\n",
       "    </tr>\n",
       "    <tr>\n",
       "      <th>25</th>\n",
       "      <td>Dela Rosa</td>\n",
       "      <td>8133</td>\n",
       "    </tr>\n",
       "  </tbody>\n",
       "</table>\n",
       "</div>"
      ],
      "text/plain": [
       "      LastName  count\n",
       "0      Garciso    522\n",
       "1      Pascual   4264\n",
       "2       Ropeta   4771\n",
       "3       Glomar   5559\n",
       "4     Cruspero   5618\n",
       "5     Prudente   5775\n",
       "6       Abeabe   5952\n",
       "7     Martinez   5967\n",
       "8      Remulla   5997\n",
       "9        Guieb   6027\n",
       "10       Obina   6031\n",
       "11      Calibo   6581\n",
       "12   Penecilla   6862\n",
       "13      Borres   6866\n",
       "14  Sooksingha   7008\n",
       "15          Te   7368\n",
       "16      Lozano   7571\n",
       "17  Camantigue   7582\n",
       "18       Taala   7648\n",
       "19    Dangalan   7655\n",
       "20    Olivares   7671\n",
       "21       Reyes   7686\n",
       "22    Lagumbay   7729\n",
       "23   Hernandez   7823\n",
       "24       Camet   7869\n",
       "25   Dela Rosa   8133"
      ]
     },
     "execution_count": 21,
     "metadata": {},
     "output_type": "execute_result"
    }
   ],
   "source": [
    "df['LastName'] = df['Unnamed: 3']\n",
    "countdf = df.groupby(['user_id', 'LastName']).sum()['count'].sort_values().to_frame(name = 'count').reset_index()\n",
    "del countdf['user_id']\n",
    "\n"
   ]
  },
  {
   "cell_type": "code",
   "execution_count": 51,
   "metadata": {},
   "outputs": [
    {
     "data": {
      "text/plain": [
       "26"
      ]
     },
     "execution_count": 51,
     "metadata": {},
     "output_type": "execute_result"
    }
   ],
   "source": [
    "colors =  (2 * np.pi * np.random.rand(26))/10\n",
    "len(colors)\n",
    "len(countdf['count'])\n"
   ]
  },
  {
   "cell_type": "code",
   "execution_count": 53,
   "metadata": {},
   "outputs": [
    {
     "data": {
      "image/png": "[encoded data removed]",
      "text/plain": [
       "<matplotlib.figure.Figure at 0x14925e828>"
      ]
     },
     "metadata": {},
     "output_type": "display_data"
    },
    {
     "data": {
      "text/plain": [
       "\"plt.figure(figsize=(10,5))\\nplt.hist(samps_normprop_pos_thinned,bins=100, alpha=0.4, label=u'MCMC distribution (Normal Proposal)', normed=True) \\nplt.plot(xxx, f_1(xxx), 'r', label='actual f(x)')\\nplt.legend()\""
      ]
     },
     "execution_count": 53,
     "metadata": {},
     "output_type": "execute_result"
    }
   ],
   "source": [
    "\n",
    "countdf.groupby('LastName').sum()['count'].plot(kind='bar', color = 'xkcd:sky blue')# xlabel=\"X-axis label\", ylabel=\"y-axix label\")\n",
    "plt.title('Annotations Completed in a Duplicates Batch')\n",
    "plt.xlabel('Name')\n",
    "plt.ylabel('Number of Duplicates Annotated')\n",
    "plt.axhline(countdf['count'].mean(), color='red', linewidth=2)\n",
    "plt.show()\n",
    "\n",
    "\"\"\"plt.figure(figsize=(10,5))\n",
    "plt.hist(samps_normprop_pos_thinned,bins=100, alpha=0.4, label=u'MCMC distribution (Normal Proposal)', normed=True) \n",
    "plt.plot(xxx, f_1(xxx), 'r', label='actual f(x)')\n",
    "plt.legend()\"\"\""
   ]
  },
  {
   "cell_type": "code",
   "execution_count": 84,
   "metadata": {},
   "outputs": [
    {
     "data": {
      "text/plain": [
       "0.00041715085962873574"
      ]
     },
     "execution_count": 84,
     "metadata": {},
     "output_type": "execute_result"
    }
   ],
   "source": [
    "\n"
   ]
  },
  {
   "cell_type": "code",
   "execution_count": 86,
   "metadata": {},
   "outputs": [
    {
     "name": "stdout",
     "output_type": "stream",
     "text": [
      "no consensus:\n",
      "0.08938946992044337\n",
      "consensus:\n",
      "0.911564017758708\n"
     ]
    }
   ],
   "source": [
    "## consensus\n",
    "\n",
    "lowagreement = dfpayloads.groupby(['unique', 'annotation']).size().to_frame(name = 'count').reset_index()\n",
    "fullagreement = lowagreement[lowagreement['count']>4] ## only 14 are consensus at 4 -- .0002%\n",
    "lowagreement = lowagreement[lowagreement['count']<5]\n",
    "print(\"no consensus:\")\n",
    "print((lowagreement.groupby(['unique']).count()).shape[0]/ (((dfpayloads.groupby(['unique']).count())).shape[0]))\n",
    "print(\"consensus:\")\n",
    "print((fullagreement.groupby(['unique']).count()).shape[0]/ (((dfpayloads.groupby(['unique']).count())).shape[0]))\n"
   ]
  },
  {
   "cell_type": "code",
   "execution_count": 104,
   "metadata": {},
   "outputs": [
    {
     "data": {
      "text/plain": [
       "<matplotlib.axes._subplots.AxesSubplot at 0x14fe412b0>"
      ]
     },
     "execution_count": 104,
     "metadata": {},
     "output_type": "execute_result"
    },
    {
     "data": {
      "image/png": "[encoded data removed]",
      "text/plain": [
       "<matplotlib.figure.Figure at 0x14fee5c50>"
      ]
     },
     "metadata": {},
     "output_type": "display_data"
    }
   ],
   "source": [
    "df = pd.DataFrame(columns=[\"Consensus\",\"Percent\", ], \n",
    "                  data=[[\"NoConsensus\",0.08938946992044337,],\n",
    "                   [\"Consensus\",0.911564017758708,]])\n",
    "#palette=sns.color_palette(\"GnBu\", 10) \n",
    "import seaborn as sns\n",
    "sns.set()\n",
    "df.set_index('Consensus').T.plot(kind='bar', stacked=True )\n",
    "\n"
   ]
  },
  {
   "cell_type": "code",
   "execution_count": null,
   "metadata": {},
   "outputs": [],
   "source": [
    "## time\n",
    "df['startdate'] = (df.created_at).apply(lambda x: str(pd.to_datetime(x))[0:11])\n",
    "df['enddate'] = (df.updated_at).apply(lambda x: str(pd.to_datetime(x))[0:11])\n",
    "np.sum(df['enddate'][0:5] != df['startdate'][0:5])\n",
    "## everyone does it in one day\n",
    "\n",
    "df['starttime'] = (df.created_at).apply(lambda x: (pd.to_datetime(str(x))))\n",
    "df['endtime'] = (df.updated_at).apply(lambda x: (pd.to_datetime(str(x))))\n",
    "df['totaltime'] = (df['endtime'] - df['starttime'] )"
   ]
  },
  {
   "cell_type": "code",
   "execution_count": 112,
   "metadata": {},
   "outputs": [
    {
     "name": "stdout",
     "output_type": "stream",
     "text": [
      "The median amount of time taken per task id is 0 days 00:02:17.946000\n",
      "The 25th quantile of time taken per task id is 0 days 00:01:09.153000\n",
      "The 75th quantile of time taken per task id is 0 days 00:05:29.377000\n",
      "The max amount of time taken per task id is 11 days 01:29:57.246000\n",
      "The min amount of time taken per task id is 0 days 00:00:14.460000\n"
     ]
    }
   ],
   "source": [
    "print(\"The median amount of time taken per task id is %s\"% (df['totaltime'].median()) )\n",
    "print(\"The 25th quantile of time taken per task id is %s\"% (df['totaltime'].quantile(0.25)) )\n",
    "print(\"The 75th quantile of time taken per task id is %s\"% (df['totaltime'].quantile(0.75)) )\n",
    "print(\"The max amount of time taken per task id is %s\"% (df['totaltime'].max()) )\n",
    "print(\"The min amount of time taken per task id is %s\"% (df['totaltime'].min()) )"
   ]
  },
  {
   "cell_type": "code",
   "execution_count": 113,
   "metadata": {},
   "outputs": [],
   "source": [
    "def consensus(df, column):\n",
    "    lowagreement = df.groupby([ 'unique', str(column)]).size().to_frame(name = 'count').reset_index()\n",
    "    agree5 = lowagreement[lowagreement['count'] >4]\n",
    "    perc5 = (len(agree5['unique'].unique())/len(lowagreement['unique'].unique()))\n",
    "    accuracy = ({str(column):perc5})\n",
    "    return accuracy  "
   ]
  },
  {
   "cell_type": "code",
   "execution_count": 114,
   "metadata": {},
   "outputs": [
    {
     "data": {
      "text/plain": [
       "{'annotation': 0.911564017758708}"
      ]
     },
     "execution_count": 114,
     "metadata": {},
     "output_type": "execute_result"
    }
   ],
   "source": [
    "consensus(df, 'annotation')"
   ]
  },
  {
   "cell_type": "code",
   "execution_count": null,
   "metadata": {},
   "outputs": [],
   "source": []
  }
 ],
 "metadata": {
  "kernelspec": {
   "display_name": "Python 3",
   "language": "python",
   "name": "python3"
  },
  "language_info": {
   "codemirror_mode": {
    "name": "ipython",
    "version": 3
   },
   "file_extension": ".py",
   "mimetype": "text/x-python",
   "name": "python",
   "nbconvert_exporter": "python",
   "pygments_lexer": "ipython3",
   "version": "3.6.4"
  }
 },
 "nbformat": 4,
 "nbformat_minor": 2
}
