{
 "cells": [
  {
   "cell_type": "code",
   "execution_count": null,
   "metadata": {},
   "outputs": [],
   "source": [
    "import numpy as np\n",
    "import pandas as pd\n",
    "import json\n",
    "import codecs\n",
    "import warnings\n",
    "warnings.filterwarnings(\"ignore\")\n",
    "import pandas as pd\n",
    "import matplotlib as m\n",
    "import matplotlib.pyplot as plt\n",
    "from pandas.io.json import json_normalize\n",
    "\n",
    "#Yenny's dups file\n",
    "json_file = \"/Users/kimia/Desktop/Work5/duplicates_batch_2018-05-18.json\"\n",
    "df = pd.read_json(json_file, lines=True)\n",
    "dfsub = json_normalize(df.submission)\n",
    "\n",
    "#everything but payload ('twas messy, so I split it then merge)\n",
    "metadf = dfsub[[ 'task_id', 'updated_at', 'user_id', 'created_at', 'id']]\n",
    "\n",
    "dfsub = pd.DataFrame(dict(df.submission[0:])).T\n",
    "dfpayloads = pd.DataFrame()\n",
    "\n",
    "# I know this isn't efficient. But it helps split out the payloads (multiple per task_id). \n",
    "for i in range(dfsub.shape[0]):\n",
    "    f = pd.DataFrame(dfsub.payload[i]).T\n",
    "    f['id'] = dfsub.id[i]\n",
    "    f['task_id'] = dfsub.task_id[i]\n",
    "    f['user_id'] = dfsub.user_id[i]\n",
    "    f['created_at'] = dfsub.created_at[i]\n",
    "    f['updated_at'] = dfsub.updated_at[i]\n",
    "    dfpayloads = pd.concat([dfpayloads, f])\n",
    "    \n",
    "dfpayloads = dfpayloads.reset_index()\n",
    "dfpayloads = dfpayloads.rename(index=str, columns={\"index\": \"payload\"})\n",
    "dfpayloads['count'] = 1 # this is to signify one input per user\n",
    "#dfpayloads.to_csv('dfpayloads.csv')"
   ]
  }
 ],
 "metadata": {
  "kernelspec": {
   "display_name": "Python 3",
   "language": "python",
   "name": "python3"
  },
  "language_info": {
   "codemirror_mode": {
    "name": "ipython",
    "version": 3
   },
   "file_extension": ".py",
   "mimetype": "text/x-python",
   "name": "python",
   "nbconvert_exporter": "python",
   "pygments_lexer": "ipython3",
   "version": "3.6.4"
  }
 },
 "nbformat": 4,
 "nbformat_minor": 2
}
