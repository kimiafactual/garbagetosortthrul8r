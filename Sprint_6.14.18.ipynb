{
 "cells": [
  {
   "cell_type": "code",
   "execution_count": 376,
   "metadata": {},
   "outputs": [],
   "source": [
    "#Important notes: All those greater than 5 had consensus.\n",
    "import numpy as np\n",
    "from IPython.core.display import HTML"
   ]
  },
  {
   "cell_type": "code",
   "execution_count": 109,
   "metadata": {},
   "outputs": [
    {
     "name": "stdout",
     "output_type": "stream",
     "text": [
      "38067\n",
      "39023\n",
      "40632\n",
      "41587\n",
      "42256\n",
      "42943\n"
     ]
    }
   ],
   "source": [
    "files = ['ca-seed-inputs.json' ,\n",
    "             'it-seed-inputs.json', 'us-seed-inputs.json', 'au-seed-inputs.json', \n",
    "             'gb-seed-inputs.json' , \n",
    "             'fr-seed-inputs.json']\n",
    "json_file = \"/Users/kimia/Desktop/Work5/sprint/\"\n",
    "all_data=[]\n",
    "df_seed_inputs = pd.DataFrame()\n",
    "for file_num, file_name in enumerate(files):\n",
    "\n",
    "    with open(json_file + str(file_name)) as f:\n",
    "        \n",
    "        for line in f:\n",
    "            data.append(json.loads( line.rstrip('\\n')))\n",
    "    print(len(data))\n",
    "    for i, v in enumerate(data[0:]):\n",
    "        d1 = (data[i]['data']['extraction']['inputMeta'])\n",
    "        df1 = pd.Series(d1).to_frame().T\n",
    "        df1['file'] = str(file_name)\n",
    "        df_seed_inputs = pd.concat([df1, df_seed_inputs], axis=0)\n",
    "df_seed_inputs.head()"
   ]
  },
  {
   "cell_type": "code",
   "execution_count": 422,
   "metadata": {},
   "outputs": [
    {
     "name": "stdout",
     "output_type": "stream",
     "text": [
      "au-extracted.json  i\n",
      "it-extracted.json  i\n"
     ]
    }
   ],
   "source": [
    "## THIS IS THE FINAL JUN 7 at 1:33\n",
    "finaltaskusdf = pd.DataFrame()\n",
    "finallocdf = pd.DataFrame()\n",
    "data = {}\n",
    "all_df= []\n",
    "df_s = pd.DataFrame()\n",
    "files =  ['us-extracted.json','au-extracted.json','it-extracted.json']\n",
    "          #,'fr-extracted.json','gb-extracted.json'\n",
    "          #   'ca-extracted.json', \n",
    "          #   'it-extracted.json', 'us-extracted.json']\n",
    "\n",
    "for file_num, file_name in enumerate(files):\n",
    "    data = {}\n",
    "    print(str(file_name)+\"  i\")\n",
    "    with open('/Users/kimia/Desktop/Work5/sprint/' + str(file_name)) as f:\n",
    "            \n",
    "            for line in f:\n",
    "                \n",
    "                data.update(json.loads( line.rstrip('\\n')))\n",
    "                all_df.append(data)\n",
    "\n",
    "                taskusedits = pd.Series(data['data']['extraction']['payload']).to_frame().T\n",
    "                taskusedits['id'] = (data['uri'])\n",
    "                taskusedits['file'] = str(file_name)\n",
    "                \n",
    "                locdf = pd.Series(data['data']['extraction']['rawPayload']).to_frame().T\n",
    "                locdf['id'] = (data['uri'])\n",
    "                locdf['file'] = str(file_name)\n",
    "\n",
    "\n",
    "                finaltaskusdf = pd.concat([taskusedits, finaltaskusdf], axis=0)\n",
    "                finallocdf = pd.concat([locdf, finallocdf], axis=0)\n",
    "       \n",
    "            \n"
   ]
  },
  {
   "cell_type": "code",
   "execution_count": 419,
   "metadata": {},
   "outputs": [
    {
     "name": "stdout",
     "output_type": "stream",
     "text": [
      "au-extracted.json  i\n",
      "fr-extracted.json  i\n"
     ]
    },
    {
     "ename": "JSONDecodeError",
     "evalue": "Expecting value: line 1 column 1 (char 0)",
     "output_type": "error",
     "traceback": [
      "\u001b[0;31m---------------------------------------------------------------------------\u001b[0m",
      "\u001b[0;31mJSONDecodeError\u001b[0m                           Traceback (most recent call last)",
      "\u001b[0;32m<ipython-input-419-8a879154073c>\u001b[0m in \u001b[0;36m<module>\u001b[0;34m()\u001b[0m\n\u001b[1;32m     15\u001b[0m             \u001b[0;32mfor\u001b[0m \u001b[0mline\u001b[0m \u001b[0;32min\u001b[0m \u001b[0mf\u001b[0m\u001b[0;34m:\u001b[0m\u001b[0;34m\u001b[0m\u001b[0m\n\u001b[1;32m     16\u001b[0m \u001b[0;34m\u001b[0m\u001b[0m\n\u001b[0;32m---> 17\u001b[0;31m                 \u001b[0mdata\u001b[0m\u001b[0;34m.\u001b[0m\u001b[0mupdate\u001b[0m\u001b[0;34m(\u001b[0m\u001b[0mjson\u001b[0m\u001b[0;34m.\u001b[0m\u001b[0mloads\u001b[0m\u001b[0;34m(\u001b[0m \u001b[0mline\u001b[0m\u001b[0;34m.\u001b[0m\u001b[0mrstrip\u001b[0m\u001b[0;34m(\u001b[0m\u001b[0;34m'\\n'\u001b[0m\u001b[0;34m)\u001b[0m\u001b[0;34m)\u001b[0m\u001b[0;34m)\u001b[0m\u001b[0;34m\u001b[0m\u001b[0m\n\u001b[0m\u001b[1;32m     18\u001b[0m                 \u001b[0mall_df\u001b[0m\u001b[0;34m.\u001b[0m\u001b[0mappend\u001b[0m\u001b[0;34m(\u001b[0m\u001b[0mdata\u001b[0m\u001b[0;34m)\u001b[0m\u001b[0;34m\u001b[0m\u001b[0m\n\u001b[1;32m     19\u001b[0m \u001b[0;34m\u001b[0m\u001b[0m\n",
      "\u001b[0;32m~/anaconda3/lib/python3.6/json/__init__.py\u001b[0m in \u001b[0;36mloads\u001b[0;34m(s, encoding, cls, object_hook, parse_float, parse_int, parse_constant, object_pairs_hook, **kw)\u001b[0m\n\u001b[1;32m    352\u001b[0m             \u001b[0mparse_int\u001b[0m \u001b[0;32mis\u001b[0m \u001b[0;32mNone\u001b[0m \u001b[0;32mand\u001b[0m \u001b[0mparse_float\u001b[0m \u001b[0;32mis\u001b[0m \u001b[0;32mNone\u001b[0m \u001b[0;32mand\u001b[0m\u001b[0;34m\u001b[0m\u001b[0m\n\u001b[1;32m    353\u001b[0m             parse_constant is None and object_pairs_hook is None and not kw):\n\u001b[0;32m--> 354\u001b[0;31m         \u001b[0;32mreturn\u001b[0m \u001b[0m_default_decoder\u001b[0m\u001b[0;34m.\u001b[0m\u001b[0mdecode\u001b[0m\u001b[0;34m(\u001b[0m\u001b[0ms\u001b[0m\u001b[0;34m)\u001b[0m\u001b[0;34m\u001b[0m\u001b[0m\n\u001b[0m\u001b[1;32m    355\u001b[0m     \u001b[0;32mif\u001b[0m \u001b[0mcls\u001b[0m \u001b[0;32mis\u001b[0m \u001b[0;32mNone\u001b[0m\u001b[0;34m:\u001b[0m\u001b[0;34m\u001b[0m\u001b[0m\n\u001b[1;32m    356\u001b[0m         \u001b[0mcls\u001b[0m \u001b[0;34m=\u001b[0m \u001b[0mJSONDecoder\u001b[0m\u001b[0;34m\u001b[0m\u001b[0m\n",
      "\u001b[0;32m~/anaconda3/lib/python3.6/json/decoder.py\u001b[0m in \u001b[0;36mdecode\u001b[0;34m(self, s, _w)\u001b[0m\n\u001b[1;32m    337\u001b[0m \u001b[0;34m\u001b[0m\u001b[0m\n\u001b[1;32m    338\u001b[0m         \"\"\"\n\u001b[0;32m--> 339\u001b[0;31m         \u001b[0mobj\u001b[0m\u001b[0;34m,\u001b[0m \u001b[0mend\u001b[0m \u001b[0;34m=\u001b[0m \u001b[0mself\u001b[0m\u001b[0;34m.\u001b[0m\u001b[0mraw_decode\u001b[0m\u001b[0;34m(\u001b[0m\u001b[0ms\u001b[0m\u001b[0;34m,\u001b[0m \u001b[0midx\u001b[0m\u001b[0;34m=\u001b[0m\u001b[0m_w\u001b[0m\u001b[0;34m(\u001b[0m\u001b[0ms\u001b[0m\u001b[0;34m,\u001b[0m \u001b[0;36m0\u001b[0m\u001b[0;34m)\u001b[0m\u001b[0;34m.\u001b[0m\u001b[0mend\u001b[0m\u001b[0;34m(\u001b[0m\u001b[0;34m)\u001b[0m\u001b[0;34m)\u001b[0m\u001b[0;34m\u001b[0m\u001b[0m\n\u001b[0m\u001b[1;32m    340\u001b[0m         \u001b[0mend\u001b[0m \u001b[0;34m=\u001b[0m \u001b[0m_w\u001b[0m\u001b[0;34m(\u001b[0m\u001b[0ms\u001b[0m\u001b[0;34m,\u001b[0m \u001b[0mend\u001b[0m\u001b[0;34m)\u001b[0m\u001b[0;34m.\u001b[0m\u001b[0mend\u001b[0m\u001b[0;34m(\u001b[0m\u001b[0;34m)\u001b[0m\u001b[0;34m\u001b[0m\u001b[0m\n\u001b[1;32m    341\u001b[0m         \u001b[0;32mif\u001b[0m \u001b[0mend\u001b[0m \u001b[0;34m!=\u001b[0m \u001b[0mlen\u001b[0m\u001b[0;34m(\u001b[0m\u001b[0ms\u001b[0m\u001b[0;34m)\u001b[0m\u001b[0;34m:\u001b[0m\u001b[0;34m\u001b[0m\u001b[0m\n",
      "\u001b[0;32m~/anaconda3/lib/python3.6/json/decoder.py\u001b[0m in \u001b[0;36mraw_decode\u001b[0;34m(self, s, idx)\u001b[0m\n\u001b[1;32m    355\u001b[0m             \u001b[0mobj\u001b[0m\u001b[0;34m,\u001b[0m \u001b[0mend\u001b[0m \u001b[0;34m=\u001b[0m \u001b[0mself\u001b[0m\u001b[0;34m.\u001b[0m\u001b[0mscan_once\u001b[0m\u001b[0;34m(\u001b[0m\u001b[0ms\u001b[0m\u001b[0;34m,\u001b[0m \u001b[0midx\u001b[0m\u001b[0;34m)\u001b[0m\u001b[0;34m\u001b[0m\u001b[0m\n\u001b[1;32m    356\u001b[0m         \u001b[0;32mexcept\u001b[0m \u001b[0mStopIteration\u001b[0m \u001b[0;32mas\u001b[0m \u001b[0merr\u001b[0m\u001b[0;34m:\u001b[0m\u001b[0;34m\u001b[0m\u001b[0m\n\u001b[0;32m--> 357\u001b[0;31m             \u001b[0;32mraise\u001b[0m \u001b[0mJSONDecodeError\u001b[0m\u001b[0;34m(\u001b[0m\u001b[0;34m\"Expecting value\"\u001b[0m\u001b[0;34m,\u001b[0m \u001b[0ms\u001b[0m\u001b[0;34m,\u001b[0m \u001b[0merr\u001b[0m\u001b[0;34m.\u001b[0m\u001b[0mvalue\u001b[0m\u001b[0;34m)\u001b[0m \u001b[0;32mfrom\u001b[0m \u001b[0;32mNone\u001b[0m\u001b[0;34m\u001b[0m\u001b[0m\n\u001b[0m\u001b[1;32m    358\u001b[0m         \u001b[0;32mreturn\u001b[0m \u001b[0mobj\u001b[0m\u001b[0;34m,\u001b[0m \u001b[0mend\u001b[0m\u001b[0;34m\u001b[0m\u001b[0m\n",
      "\u001b[0;31mJSONDecodeError\u001b[0m: Expecting value: line 1 column 1 (char 0)"
     ]
    }
   ],
   "source": [
    "## THIS IS THE FINAL JUN 7 at 1:33\n",
    "finaltaskusdf = pd.DataFrame()\n",
    "finallocdf = pd.DataFrame()\n",
    "data = {}\n",
    "all_df= []\n",
    "for file_num, file_name in enumerate(files):\n",
    "    with open('/Users/kimia/Desktop/Work5/sprint/au-extracted.json') as f:\n",
    "\n",
    "            for line in f:\n",
    "\n",
    "                data.update(json.loads( line.rstrip('\\n')))\n",
    "                all_df.append(data)\n",
    "\n",
    "                taskusedits = pd.Series(data['data']['extraction']['payload']).to_frame().T\n",
    "                taskusedits['id'] = (data['uri'])\n",
    "\n",
    "                locdf = pd.Series(data['data']['extraction']['rawPayload']).to_frame().T\n",
    "                locdf['id'] = (data['uri'])\n",
    "\n",
    "\n",
    "                finaltaskusdf = pd.concat([taskusedits, finaltaskusdf], axis=0)\n",
    "                finallocdf = pd.concat([locdf, finallocdf], axis=0)\n",
    "            \n",
    "\n",
    "finallocdf['id'] = finallocdf['id'].apply(lambda x: int(x[-6:]))\n",
    "finaltaskusdf['id']= finaltaskusdf['id'].apply(lambda x: int(x[-6:]))\n",
    "\n",
    "## THIS WORK!! 1:36 JUN 7\n",
    "data = {}\n",
    "df_s = pd.DataFrame()\n",
    "with open('/Users/kimia/Desktop/Work5/sprint/au-seed-inputs.json') as f:\n",
    "    for line in f:\n",
    "        data.update(json.loads( line.rstrip('\\n')))\n",
    "        #print(data['data']['extraction']['inputMeta'])\n",
    "        \n",
    "        d1 = pd.Series(data['data']['extraction']['inputMeta']).to_frame().T \n",
    "        \n",
    "        df_s = pd.concat([df_s, d1], axis=0)\n"
   ]
  },
  {
   "cell_type": "code",
   "execution_count": 414,
   "metadata": {},
   "outputs": [
    {
     "data": {
      "text/plain": [
       "0    fr-seed-inputs.json\n",
       "Name: file, dtype: object"
      ]
     },
     "execution_count": 414,
     "metadata": {},
     "output_type": "execute_result"
    }
   ],
   "source": []
  },
  {
   "cell_type": "code",
   "execution_count": null,
   "metadata": {},
   "outputs": [],
   "source": [
    "\n",
    "finallocdf['id'] = finallocdf['id'].apply(lambda x: int(x[-6:]))\n",
    "finaltaskusdf['id']= finaltaskusdf['id'].apply(lambda x: int(x[-6:]))\n",
    "\n",
    "## THIS WORK!! 1:36 JUN 7\n",
    "data = {}\n",
    "df_s = pd.DataFrame()\n",
    "with open('/Users/kimia/Desktop/Work5/sprint/au-seed-inputs.json') as f:\n",
    "    for line in f:\n",
    "        data.update(json.loads( line.rstrip('\\n')))\n",
    "        #print(data['data']['extraction']['inputMeta'])\n",
    "        \n",
    "        d1 = pd.Series(data['data']['extraction']['inputMeta']).to_frame().T \n",
    "        \n",
    "        df_s = pd.concat([df_s, d1], axis=0)\n"
   ]
  },
  {
   "cell_type": "code",
   "execution_count": 169,
   "metadata": {},
   "outputs": [],
   "source": [
    "result = (pd.merge(df_s,finaltaskusdf, on = 'id'))"
   ]
  },
  {
   "cell_type": "code",
   "execution_count": 254,
   "metadata": {},
   "outputs": [],
   "source": [
    "result.to_csv('result.csv')"
   ]
  },
  {
   "cell_type": "code",
   "execution_count": 242,
   "metadata": {},
   "outputs": [
    {
     "name": "stdout",
     "output_type": "stream",
     "text": [
      "The percent of disagreements for id : 1.0\n",
      "The percent of disagreements for sourceUrl : 1.0\n",
      "The percent of disagreements for user_id : 1.0\n",
      "The percent of disagreements for address : 0.3631578947368421\n",
      "The percent of disagreements for address_extended : 0.03684210526315789\n",
      "The percent of disagreements for alcohol : 0.005263157894736842\n",
      "The percent of disagreements for alcohol_bar : 0.005263157894736842\n",
      "The percent of disagreements for alcohol_beer_wine : 0.005263157894736842\n",
      "The percent of disagreements for country : 0.0\n",
      "The percent of disagreements for cuisine : 0.005263157894736842\n",
      "The percent of disagreements for locality : 0.14736842105263157\n",
      "The percent of disagreements for name : 0.16842105263157894\n",
      "The percent of disagreements for postcode : 0.11052631578947368\n",
      "The percent of disagreements for region : 0.0\n",
      "The percent of disagreements for tel : 0.23157894736842105\n",
      "The percent of disagreements for website : 0.6894736842105263\n"
     ]
    }
   ],
   "source": [
    "def accuracy_per_column(column):\n",
    "    cons = result.groupby([ 'task_id', (str(column))]).size().to_frame()\n",
    "    cons['count'] = cons[0]\n",
    "    j = (cons[cons['count']<5]).reset_index()\n",
    "    numer_mistakes  = len(j['task_id'].unique())\n",
    "    total = len(result['task_id'].unique())\n",
    "    return print('The percent of disagreements for',str(column),(\":\"), numer_mistakes/total)\n",
    "    ### make this a pretty print\n",
    "    \n",
    "    \n",
    "columnsz = ['id',\n",
    " 'sourceUrl',\n",
    " 'user_id',\n",
    " 'address',\n",
    " 'address_extended',\n",
    " 'alcohol',\n",
    " 'alcohol_bar',\n",
    " 'alcohol_beer_wine',\n",
    " 'country',\n",
    " 'cuisine',\n",
    " 'locality',\n",
    " 'name',\n",
    " 'postcode',\n",
    " 'region',\n",
    " 'tel',\n",
    " 'website']\n",
    "    \n",
    "    \n",
    "for i, v in enumerate(columnsz): \n",
    "    accuracy_per_column(str(v))"
   ]
  },
  {
   "cell_type": "code",
   "execution_count": 325,
   "metadata": {},
   "outputs": [
    {
     "data": {
      "text/plain": [
       "array([59217, 59351, 59384, 59530, 59532, 59628, 59636, 59682, 59813,\n",
       "       59963, 60032, 60068])"
      ]
     },
     "execution_count": 325,
     "metadata": {},
     "output_type": "execute_result"
    }
   ],
   "source": [
    "cons = result.groupby([ 'task_id', 'name']).size().to_frame()\n",
    "cons['count'] = cons[0]\n",
    "k = (cons[(cons['count']==2) | (cons['count']==3) ]).reset_index()\n",
    "(k.task_id.unique())"
   ]
  },
  {
   "cell_type": "code",
   "execution_count": null,
   "metadata": {},
   "outputs": [],
   "source": []
  },
  {
   "cell_type": "code",
   "execution_count": null,
   "metadata": {},
   "outputs": [],
   "source": []
  },
  {
   "cell_type": "code",
   "execution_count": null,
   "metadata": {},
   "outputs": [],
   "source": []
  },
  {
   "cell_type": "markdown",
   "metadata": {},
   "source": [
    "# Idenitifying Poor Performers\n",
    "on 'address', 'name', 'tel'- the three columns with the least consensus. "
   ]
  },
  {
   "cell_type": "code",
   "execution_count": 403,
   "metadata": {},
   "outputs": [],
   "source": [
    "def singleouttaskus(column_namesz):\n",
    "    final_df = pd.DataFrame()\n",
    "    for num, column_name in enumerate(column_namesz):\n",
    "        ## For each user, how often do How often is this person the only person who disagrees?\n",
    "        lowagreement = result.groupby([ 'task_id', str(column_name)]).size().to_frame(name = 'count').reset_index()\n",
    "        lowagreement = lowagreement[lowagreement['count'] == 1]\n",
    "        lowagreement =  pd.merge(lowagreement,result,  how = 'right', on=[ 'task_id',str(column_name)])\n",
    "        differ_from_others = ((lowagreement.groupby('user_id').count()['count'].to_frame())).sort_values('count', ascending=False).reset_index()\n",
    "        total = result.groupby(['user_id']).count()['task_id'].to_frame(name = 'count').reset_index()\n",
    "        perfmstat = pd.merge(differ_from_others,total,  on=['user_id'])\n",
    "        perfmstat['%'] = (perfmstat['count_x']/perfmstat['count_y'])*100\n",
    "        #perfmstat = perfmstat.rename(index=str, columns={\"count_x\": \"#timediffer\", 'count': 'totalannot'})\n",
    "        print(\"Top users who are the *only* Taskus employee diverging from consensus (5) on\", str(column_name))\n",
    "        display(HTML(((perfmstat.sort_values('%', ascending=False).reset_index())[0:]).to_html()))\n",
    "        final_df = pd.concat([perfmstat,final_df],axis=0 )\n",
    "        return final_df\n"
   ]
  },
  {
   "cell_type": "code",
   "execution_count": 411,
   "metadata": {},
   "outputs": [
    {
     "name": "stdout",
     "output_type": "stream",
     "text": [
      "List of users who disagree from 4+ other taskus employees, summed % across address, tel, and name\n"
     ]
    },
    {
     "data": {
      "text/html": [
       "<div>\n",
       "<style scoped>\n",
       "    .dataframe tbody tr th:only-of-type {\n",
       "        vertical-align: middle;\n",
       "    }\n",
       "\n",
       "    .dataframe tbody tr th {\n",
       "        vertical-align: top;\n",
       "    }\n",
       "\n",
       "    .dataframe thead th {\n",
       "        text-align: right;\n",
       "    }\n",
       "</style>\n",
       "<table border=\"1\" class=\"dataframe\">\n",
       "  <thead>\n",
       "    <tr style=\"text-align: right;\">\n",
       "      <th></th>\n",
       "      <th>user_id</th>\n",
       "      <th>%</th>\n",
       "    </tr>\n",
       "  </thead>\n",
       "  <tbody>\n",
       "    <tr>\n",
       "      <th>0</th>\n",
       "      <td>36</td>\n",
       "      <td>27.272727</td>\n",
       "    </tr>\n",
       "    <tr>\n",
       "      <th>1</th>\n",
       "      <td>29</td>\n",
       "      <td>25.000000</td>\n",
       "    </tr>\n",
       "    <tr>\n",
       "      <th>2</th>\n",
       "      <td>30</td>\n",
       "      <td>24.137931</td>\n",
       "    </tr>\n",
       "    <tr>\n",
       "      <th>3</th>\n",
       "      <td>40</td>\n",
       "      <td>20.967742</td>\n",
       "    </tr>\n",
       "    <tr>\n",
       "      <th>4</th>\n",
       "      <td>17</td>\n",
       "      <td>18.750000</td>\n",
       "    </tr>\n",
       "    <tr>\n",
       "      <th>5</th>\n",
       "      <td>39</td>\n",
       "      <td>18.518519</td>\n",
       "    </tr>\n",
       "    <tr>\n",
       "      <th>6</th>\n",
       "      <td>16</td>\n",
       "      <td>16.279070</td>\n",
       "    </tr>\n",
       "    <tr>\n",
       "      <th>7</th>\n",
       "      <td>33</td>\n",
       "      <td>15.625000</td>\n",
       "    </tr>\n",
       "    <tr>\n",
       "      <th>8</th>\n",
       "      <td>25</td>\n",
       "      <td>14.583333</td>\n",
       "    </tr>\n",
       "    <tr>\n",
       "      <th>9</th>\n",
       "      <td>41</td>\n",
       "      <td>13.333333</td>\n",
       "    </tr>\n",
       "    <tr>\n",
       "      <th>10</th>\n",
       "      <td>46</td>\n",
       "      <td>13.157895</td>\n",
       "    </tr>\n",
       "    <tr>\n",
       "      <th>11</th>\n",
       "      <td>47</td>\n",
       "      <td>12.765957</td>\n",
       "    </tr>\n",
       "    <tr>\n",
       "      <th>12</th>\n",
       "      <td>45</td>\n",
       "      <td>12.195122</td>\n",
       "    </tr>\n",
       "    <tr>\n",
       "      <th>13</th>\n",
       "      <td>44</td>\n",
       "      <td>11.764706</td>\n",
       "    </tr>\n",
       "    <tr>\n",
       "      <th>14</th>\n",
       "      <td>37</td>\n",
       "      <td>11.538462</td>\n",
       "    </tr>\n",
       "    <tr>\n",
       "      <th>15</th>\n",
       "      <td>38</td>\n",
       "      <td>10.000000</td>\n",
       "    </tr>\n",
       "    <tr>\n",
       "      <th>16</th>\n",
       "      <td>20</td>\n",
       "      <td>9.803922</td>\n",
       "    </tr>\n",
       "    <tr>\n",
       "      <th>17</th>\n",
       "      <td>23</td>\n",
       "      <td>9.523810</td>\n",
       "    </tr>\n",
       "    <tr>\n",
       "      <th>18</th>\n",
       "      <td>21</td>\n",
       "      <td>9.302326</td>\n",
       "    </tr>\n",
       "    <tr>\n",
       "      <th>19</th>\n",
       "      <td>26</td>\n",
       "      <td>4.761905</td>\n",
       "    </tr>\n",
       "    <tr>\n",
       "      <th>20</th>\n",
       "      <td>58</td>\n",
       "      <td>4.545455</td>\n",
       "    </tr>\n",
       "    <tr>\n",
       "      <th>21</th>\n",
       "      <td>43</td>\n",
       "      <td>3.636364</td>\n",
       "    </tr>\n",
       "    <tr>\n",
       "      <th>22</th>\n",
       "      <td>59</td>\n",
       "      <td>2.564103</td>\n",
       "    </tr>\n",
       "    <tr>\n",
       "      <th>23</th>\n",
       "      <td>31</td>\n",
       "      <td>0.000000</td>\n",
       "    </tr>\n",
       "    <tr>\n",
       "      <th>24</th>\n",
       "      <td>22</td>\n",
       "      <td>0.000000</td>\n",
       "    </tr>\n",
       "    <tr>\n",
       "      <th>25</th>\n",
       "      <td>49</td>\n",
       "      <td>0.000000</td>\n",
       "    </tr>\n",
       "  </tbody>\n",
       "</table>\n",
       "</div>"
      ],
      "text/plain": [
       "    user_id          %\n",
       "0        36  27.272727\n",
       "1        29  25.000000\n",
       "2        30  24.137931\n",
       "3        40  20.967742\n",
       "4        17  18.750000\n",
       "5        39  18.518519\n",
       "6        16  16.279070\n",
       "7        33  15.625000\n",
       "8        25  14.583333\n",
       "9        41  13.333333\n",
       "10       46  13.157895\n",
       "11       47  12.765957\n",
       "12       45  12.195122\n",
       "13       44  11.764706\n",
       "14       37  11.538462\n",
       "15       38  10.000000\n",
       "16       20   9.803922\n",
       "17       23   9.523810\n",
       "18       21   9.302326\n",
       "19       26   4.761905\n",
       "20       58   4.545455\n",
       "21       43   3.636364\n",
       "22       59   2.564103\n",
       "23       31   0.000000\n",
       "24       22   0.000000\n",
       "25       49   0.000000"
      ]
     },
     "execution_count": 411,
     "metadata": {},
     "output_type": "execute_result"
    }
   ],
   "source": [
    "column_namesz = ['address', 'name', 'tel']\n",
    "final_df = pd.DataFrame()\n",
    "for num, column_name in enumerate(column_namesz):\n",
    "    ## For each user, how often do How often is this person the only person who disagrees?\n",
    "    lowagreement = result.groupby([ 'task_id', str(column_name)]).size().to_frame(name = 'count').reset_index()\n",
    "    lowagreement = lowagreement[lowagreement['count'] == 1]\n",
    "    lowagreement =  pd.merge(lowagreement,result,  how = 'right', on=[ 'task_id',str(column_name)])\n",
    "    differ_from_others = ((lowagreement.groupby('user_id').count()['count'].to_frame())).sort_values('count', ascending=False).reset_index()\n",
    "    total = result.groupby(['user_id']).count()['task_id'].to_frame(name = 'count').reset_index()\n",
    "    perfmstat = pd.merge(differ_from_others,total,  on=['user_id'])\n",
    "    perfmstat['%'] = (perfmstat['count_x']/perfmstat['count_y'])*100\n",
    "    #perfmstat = perfmstat.rename(index=str, columns={\"count_x\": \"#timediffer\", 'count': 'totalannot'})\n",
    "    #print(\"Top users who are the *only* Taskus employee diverging from consensus (5) on\", str(column_name))\n",
    "    #display(HTML(((perfmstat.sort_values('%', ascending=False).reset_index())[0:]).to_html()))\n",
    "    final_df = pd.concat([perfmstat,final_df],axis=0 )\n",
    "print(\"List of users who disagree from 4+ other taskus employees, summed % across address, tel, and name\")\n",
    "final_df.groupby(['user_id']).sum()[\"%\"].to_frame().sort_values('%', ascending=False).reset_index()"
   ]
  },
  {
   "cell_type": "code",
   "execution_count": null,
   "metadata": {},
   "outputs": [],
   "source": [
    "\n"
   ]
  },
  {
   "cell_type": "code",
   "execution_count": null,
   "metadata": {},
   "outputs": [],
   "source": []
  },
  {
   "cell_type": "code",
   "execution_count": null,
   "metadata": {},
   "outputs": [],
   "source": []
  },
  {
   "cell_type": "code",
   "execution_count": null,
   "metadata": {},
   "outputs": [],
   "source": []
  },
  {
   "cell_type": "code",
   "execution_count": null,
   "metadata": {},
   "outputs": [],
   "source": []
  },
  {
   "cell_type": "code",
   "execution_count": null,
   "metadata": {},
   "outputs": [],
   "source": []
  },
  {
   "cell_type": "code",
   "execution_count": null,
   "metadata": {},
   "outputs": [],
   "source": []
  },
  {
   "cell_type": "code",
   "execution_count": null,
   "metadata": {},
   "outputs": [],
   "source": []
  }
 ],
 "metadata": {
  "kernelspec": {
   "display_name": "Python 3",
   "language": "python",
   "name": "python3"
  },
  "language_info": {
   "codemirror_mode": {
    "name": "ipython",
    "version": 3
   },
   "file_extension": ".py",
   "mimetype": "text/x-python",
   "name": "python",
   "nbconvert_exporter": "python",
   "pygments_lexer": "ipython3",
   "version": "3.6.4"
  }
 },
 "nbformat": 4,
 "nbformat_minor": 2
}
