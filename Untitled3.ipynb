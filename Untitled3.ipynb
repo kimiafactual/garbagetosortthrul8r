{
 "cells": [
  {
   "cell_type": "code",
   "execution_count": null,
   "metadata": {},
   "outputs": [
    {
     "name": "stdout",
     "output_type": "stream",
     "text": [
      "au-extracted.json\n",
      "it-extracted.json\n",
      "fr-extracted.json\n"
     ]
    }
   ],
   "source": [
    "#Important notes: All those greater than 5 had consensus.\n",
    "import numpy as np\n",
    "from IPython.core.display import HTML\n",
    "import json\n",
    "import pandas as pd\n",
    "import warnings\n",
    "warnings.filterwarnings(\"ignore\")\n",
    "\n",
    "## THIS IS THE FINAL JUN 8 at 3\n",
    "finaltaskusdf = pd.DataFrame()\n",
    "finallocdf = pd.DataFrame()\n",
    "data = {}\n",
    "all_df= []\n",
    "df_s = pd.DataFrame()\n",
    "files =  ['au-extracted.json','it-extracted.json', \n",
    "          'fr-extracted.json','gb-extracted.json',\n",
    "             'ca-extracted.json', 'us-extracted.json']\n",
    "              \n",
    "\n",
    "for file_num, file_name in enumerate(files):\n",
    "    data = {}\n",
    "    print(str(file_name))\n",
    "    n=0\n",
    "    with open('/Users/kimia/Desktop/Work5/sprint614/' + str(file_name)) as f:\n",
    "            \n",
    "                for line in f:\n",
    "                    try:\n",
    "\n",
    "                        data.update(json.loads( line.rstrip('\\n')))\n",
    "                        all_df.append(data)\n",
    "\n",
    "                        taskusedits = pd.Series(data['data']['extraction']['payload']).to_frame().T\n",
    "                        taskusedits['id'] = (data['uri'])\n",
    "                        taskusedits['file'] = str(file_name)\n",
    "\n",
    "                        locdf = pd.Series(data['data']['extraction']['rawPayload']).to_frame().T\n",
    "                        locdf['id'] = (data['uri'])\n",
    "                        locdf['file'] = str(file_name)\n",
    "\n",
    "\n",
    "                        finaltaskusdf = pd.concat([taskusedits, finaltaskusdf], axis=0)\n",
    "                        finallocdf = pd.concat([locdf, finallocdf], axis=0)\n",
    "       \n",
    "                    except:\n",
    "\n",
    "                        n = n+1\n",
    "                        print(n)\n",
    "finallocdf['id'] = finallocdf['id'].apply(lambda x: int(x[-6:]))\n",
    "finaltaskusdf['id']= finaltaskusdf['id'].apply(lambda x: int(x[-6:]))\n",
    "\n",
    "## THIS WORK!! 1:36 JUN 7\n",
    "data = {}\n",
    "df_s = pd.DataFrame()\n",
    "files = ['ca-seed-inputs.json' ,\n",
    "             'it-seed-inputs.json', 'us-seed-inputs.json', 'au-seed-inputs.json', \n",
    "             'gb-seed-inputs.json' , \n",
    "             'fr-seed-inputs.json']\n",
    "for file_num, file_name in enumerate(files):\n",
    "\n",
    "    print(str(file_name)+\"  i\")\n",
    "    with open('/Users/kimia/Desktop/Work5/sprint/' + str(file_name)) as f:\n",
    "        \n",
    "        \n",
    "        for line in f:\n",
    "            data.update(json.loads( line.rstrip('\\n')))\n",
    "            #print(data['data']['extraction']['inputMeta'])\n",
    "\n",
    "            d1 = pd.Series(data['data']['extraction']['inputMeta']).to_frame().T \n",
    "        \n",
    "            d1['file'] = str(file_name)\n",
    "            df_s = pd.concat([df_s, d1], axis=0)\n",
    "        \n",
    "result = (pd.merge(df_s,finaltaskusdf, on = ['id'])) # correct merge: (result.file_x == result.file_y)      "
   ]
  },
  {
   "cell_type": "code",
   "execution_count": null,
   "metadata": {},
   "outputs": [],
   "source": []
  }
 ],
 "metadata": {
  "kernelspec": {
   "display_name": "Python 3",
   "language": "python",
   "name": "python3"
  },
  "language_info": {
   "codemirror_mode": {
    "name": "ipython",
    "version": 3
   },
   "file_extension": ".py",
   "mimetype": "text/x-python",
   "name": "python",
   "nbconvert_exporter": "python",
   "pygments_lexer": "ipython3",
   "version": "3.6.4"
  }
 },
 "nbformat": 4,
 "nbformat_minor": 2
}
